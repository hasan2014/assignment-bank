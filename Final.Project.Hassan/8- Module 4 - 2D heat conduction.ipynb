{
 "metadata": {
  "name": "",
  "signature": "sha256:41367b706d1f4276cac3f155a3afaca15c6a2268c47945f35750659019c3c91c"
 },
 "nbformat": 3,
 "nbformat_minor": 0,
 "worksheets": [
  {
   "cells": [
    {
     "cell_type": "code",
     "collapsed": false,
     "input": [
      "import numpy \n",
      "import matplotlib\n",
      "import numpy as np\n",
      "import matplotlib.cm as cm\n",
      "import matplotlib.mlab as mlab\n",
      "import matplotlib.pyplot as plt\n",
      "\n",
      "\n",
      "%matplotlib inline\n",
      "from pylab import *"
     ],
     "language": "python",
     "metadata": {},
     "outputs": [],
     "prompt_number": 9
    },
    {
     "cell_type": "markdown",
     "metadata": {},
     "source": [
      "In this example we want to solve the 2D example of module 4 of our class as the last module which we learned in the class. We solved this 2D problem with explicit and implicit methods. Now we want to compare these two methods (LBM and FDM)"
     ]
    },
    {
     "cell_type": "code",
     "collapsed": false,
     "input": [
      "nx=40 # the number of nodes in x direction lattice direction \n",
      "ny=40 # the number of nodes in y direction lattice direction \n",
      "\n",
      "\n",
      "alpha=0.25 # heat diffusion coefficient \n",
      "D=3.0 # the dimension of the problem \n",
      "mstep=100 # the number of time step\n",
      "omega=1./(0.5+(alpha*D))     #Chapman-Enskog  dt=1 and dx=1 \n",
      "\n",
      "Tleft=100.0    # left wall temperature\n",
      "Tbottom=100.0   # right wall temperature\n",
      "k=9 # k=0,1,2,3,4,5,6,8,9  "
     ],
     "language": "python",
     "metadata": {},
     "outputs": [],
     "prompt_number": 10
    },
    {
     "cell_type": "code",
     "collapsed": false,
     "input": [
      "x=numpy.linspace(0,1,nx+1)\n",
      "y=numpy.linspace(0,1,ny+1)\n",
      "w=numpy.ones(k)      # witghting factor\n",
      "T=numpy.ones((ny+1,nx+1) )   # Temperature matrix\n",
      "f= numpy.ones((k, ny+1,nx+1))   # distribution function"
     ],
     "language": "python",
     "metadata": {},
     "outputs": [],
     "prompt_number": 11
    },
    {
     "cell_type": "code",
     "collapsed": false,
     "input": [
      "w[0]=4./9 #4./9\n",
      "w[1:5]=1./9.\n",
      "w[5:9]=1./36."
     ],
     "language": "python",
     "metadata": {},
     "outputs": [],
     "prompt_number": 12
    },
    {
     "cell_type": "code",
     "collapsed": false,
     "input": [
      "T[0:ny+1,0:nx+1]=0.0\n",
      "T[0:ny+1,0]=100.0\n",
      "T[0,0:nx+1]=100.0  \n",
      "\n",
      "\n",
      "for i in range(nx+1):\n",
      "  for j in range(ny+1):\n",
      "   for l in range (k): #k=0,1,2,3,4      \n",
      "    f[l,j,i]=w[l]*T[j,i]"
     ],
     "language": "python",
     "metadata": {},
     "outputs": [],
     "prompt_number": 13
    },
    {
     "cell_type": "code",
     "collapsed": false,
     "input": [
      "##   Main loop  : comprised two parts :collision and streaming\n",
      "##=====================\n",
      "for n in range(mstep) :\n",
      "    \n",
      "# collision process   \n",
      " for i in range(nx+1):\n",
      "  for j in range(ny+1):\n",
      "   for l in range (k):\n",
      "    feq=w[l]*T[j,i]    \n",
      "    f[l,j,i]=(1.-omega)*f[l,j,i]+omega*feq    \n",
      " \n",
      "#streaming process\n",
      "# ==========================\n",
      " for i in range(nx):\n",
      "  for j in range(ny,0,-1):  \n",
      "   f[6,j,i]=f[6,j-1,i+1]\n",
      "   f[2,j,i]=f[2,j-1,i]\n",
      "\n",
      " for i in range(nx,0,-1):\n",
      "  for j in range(ny,0,-1):  \n",
      "   f[5,j,i]=f[5,j-1,i-1]\n",
      "   f[1,j,i]=f[1,j,i-1] \n",
      "\n",
      " for i in range(nx,0,-1):\n",
      "  for j in range(0,ny):  \n",
      "   f[8,j,i]=f[8,j+1,i-1]\n",
      "   f[4,j,i]=f[4,j+1,i]\n",
      "\n",
      " for i in range(0,nx):\n",
      "  for j in range(0,ny):  \n",
      "   f[7,j,i]=f[7,j+1,i+1]\n",
      "   f[3,j,i]=f[3,j,i+1]\n",
      "\n",
      "# Boundary condition \n",
      "#  =============================\n",
      " for j in range(0,ny+1) :               #left Boundary\n",
      "  f[1,j,0]=( Tleft*(w[1]+w[3]) )-f[3,j,0]\n",
      "  f[5,j,0]=( Tleft*(w[5]+w[7]) )-f[7,j,0]\n",
      "  f[8,j,0]=( Tleft*(w[8]+w[6]) )-f[6,j,0]\n",
      "  \n",
      " for i in range(0,nx+1):                #bottom Boundary\n",
      "  f[2,0,i]=( Tbottom*(w[2]+w[4]) )-f[4,0,i]\n",
      "  f[5,0,i]=( Tbottom*(w[5]+w[7]) )-f[7,0,i]\n",
      "  f[6,0,i]=( Tbottom*(w[6]+w[8]) )-f[8,0,i]\n",
      "\n",
      " for i in range(1,nx):                #  top Boundary\n",
      "  for l in range(k):\n",
      "   f[l,ny,i]=f[l,ny-1,i]\n",
      "   \n",
      " for j in range(1,ny):                #  right Boundary\n",
      "  for l in range(k):\n",
      "   f[l,j,nx]=f[l,j,nx-1]\n",
      "   \n",
      "  \n",
      "#================================  \n",
      " \n",
      " for i in range(nx+1):\n",
      "  for j in range(ny+1):\n",
      "   sum=0.0\n",
      "   for l in range (k):\n",
      "    sum=sum+f[l,j,i]\n",
      "   T[j,i]=sum\n",
      " T[0:ny+1,0]=Tleft\n",
      " T[0,1:nx]=Tbottom\n",
      " T[1:ny,nx]=T[1:ny,nx-1]\n",
      " T[ny,1:nx]=T[ny-1,1:nx]\n",
      "#==============================\n",
      "#=============================="
     ],
     "language": "python",
     "metadata": {},
     "outputs": [],
     "prompt_number": 14
    },
    {
     "cell_type": "code",
     "collapsed": false,
     "input": [
      "#  Finite Difference Method \n",
      "\n",
      "#=============================\n",
      "Tf=numpy.ones((ny+1,nx+1) )   # finite difference Temperature matrix\n",
      "To=numpy.ones((ny+1,nx+1) ) \n",
      "\n",
      "lx=0.01\n",
      "ly=0.01\n",
      "\n",
      "x=numpy.linspace(0,lx,nx+1)\n",
      "y=numpy.linspace(0,ly,ny+1)\n",
      "\n",
      "mstep=100\n",
      "dx=lx/nx\n",
      "dy=ly/ny\n",
      "alpha=0.25\n",
      "dt=0.2*(dx**2)/alpha\n",
      "print dt\n",
      "\n",
      "Tf[0:ny+1,0:nx+1]=0.0\n",
      "Tf[0:ny+1,0]=100.0\n",
      "Tf[0,0:nx+1]=100.0\n",
      "\n",
      "\n",
      "for n in range (mstep):\n",
      " To[0:ny+1,0:nx+1]=Tf[0:ny+1,0:nx+1]\n",
      " for j in range (1,ny):\n",
      "  for i in range (1,nx):\n",
      "   Txx=(To[j,i+1]+To[j,i-1])\n",
      "   Tyy=(To[j+1,i]+To[j-1,i])\n",
      "   Tf[j,i]=To[j,i]+ (dt*alpha*(Txx+Tyy-4.*To[j,i])/(dx**2))\n",
      "#\n",
      " Tf[1:ny,nx]=Tf[1:ny,nx-1]\n",
      " Tf[ny,1:nx]=Tf[ny-1,1:nx]  \n",
      "##"
     ],
     "language": "python",
     "metadata": {},
     "outputs": [
      {
       "output_type": "stream",
       "stream": "stdout",
       "text": [
        "5e-08\n"
       ]
      }
     ],
     "prompt_number": 15
    },
    {
     "cell_type": "code",
     "collapsed": false,
     "input": [
      "\n",
      "title('Lattice Boltzmann Method')\n",
      "CS1 = plt.contourf(x,y,T,20)\n",
      "plt.colorbar();"
     ],
     "language": "python",
     "metadata": {},
     "outputs": [
      {
       "metadata": {},
       "output_type": "display_data",
       "png": "[encoded data removed]",
       "text": [
        "<matplotlib.figure.Figure at 0x7f6e353ef310>"
       ]
      }
     ],
     "prompt_number": 16
    },
    {
     "cell_type": "code",
     "collapsed": false,
     "input": [
      "\n",
      "title('Finite Difference Method')\n",
      "CS2 = plt.contourf(x,y,Tf,20)\n",
      "plt.colorbar();"
     ],
     "language": "python",
     "metadata": {},
     "outputs": [
      {
       "metadata": {},
       "output_type": "display_data",
       "png": "[encoded data removed]",
       "text": [
        "<matplotlib.figure.Figure at 0x7f6e35295b50>"
       ]
      }
     ],
     "prompt_number": 17
    }
   ],
   "metadata": {}
  }
 ]
}