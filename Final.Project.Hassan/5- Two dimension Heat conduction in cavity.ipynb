{
 "metadata": {
  "name": "",
  "signature": "sha256:7dd6b5131fa544f11ecf8721ba8bdebca1e1284e2af9e8473b7612c63c587f3a"
 },
 "nbformat": 3,
 "nbformat_minor": 0,
 "worksheets": [
  {
   "cells": [
    {
     "cell_type": "code",
     "collapsed": false,
     "input": [
      "import numpy \n",
      "import matplotlib\n",
      "import numpy as np\n",
      "import matplotlib.cm as cm\n",
      "import matplotlib.mlab as mlab\n",
      "import matplotlib.pyplot as plt\n",
      "\n",
      "%matplotlib inline\n",
      "from pylab import *"
     ],
     "language": "python",
     "metadata": {},
     "outputs": [],
     "prompt_number": 148
    },
    {
     "cell_type": "markdown",
     "metadata": {},
     "source": [
      "Before going to module 4 of our Numerical class, we want to check the example to completely sure about our code. In this code we have just changed our boundary conditions as follow:\n",
      "\n",
      "Tleft temperature:  hot\n",
      "\n",
      "Tright temperature:  cold\n",
      "\n",
      "Ttop temperature:  cold\n",
      "\n",
      "TBottom wall:  adiabatic or insulated "
     ]
    },
    {
     "cell_type": "code",
     "collapsed": false,
     "input": [
      "nx=100 # the number of nodes in x direction lattice direction \n",
      "ny=100 # the number of nodes in y direction lattice direction \n",
      "\n",
      "u=0.1\n",
      "v=0.4\n",
      "\n",
      "alpha=1.0 # heat diffusion coefficient \n",
      "D=3.0 # the dimension of the problem \n",
      "mstep=200 # the number of time step\n",
      "omega=1./(0.5+(alpha*D))     #Chapman-Enskog  dt=1 and dx=1 \n",
      "\n",
      "Tleft=1.0    # left wall temperature\n",
      "Tright=0.0   # right wall temperature\n",
      "Ttop=0.0\n",
      "k=9 # k=0,1,2,3,4,5,6,8,9   "
     ],
     "language": "python",
     "metadata": {},
     "outputs": [],
     "prompt_number": 149
    },
    {
     "cell_type": "code",
     "collapsed": false,
     "input": [
      "x=numpy.linspace(0,1,nx+1)*nx\n",
      "y=numpy.linspace(0,1,ny+1)*ny\n",
      "w=numpy.ones(k)      # witghting factor\n",
      "\n",
      "cx=numpy.ones(k) \n",
      "cy=numpy.ones(k) \n",
      "\n",
      "T=numpy.ones((ny+1,nx+1) )   # Temperature matrix\n",
      "f= numpy.ones((k, ny+1,nx+1))   # distribution function"
     ],
     "language": "python",
     "metadata": {},
     "outputs": [],
     "prompt_number": 150
    },
    {
     "cell_type": "code",
     "collapsed": false,
     "input": [
      "w[0]=4./9 #4./9\n",
      "w[1:5]=1./9.\n",
      "w[5:9]=1./36.\n",
      "\n",
      "cx[0]=0.0\n",
      "cx[1]=1.0\n",
      "cx[2]=0.0\n",
      "cx[3]=-1.0\n",
      "cx[4]=0.0\n",
      "cx[5]=1.0\n",
      "cx[6]=-1.0\n",
      "cx[7]=-1.0\n",
      "cx[8]=1.0\n",
      "\n",
      "cy[0]=0.0\n",
      "cy[1]=0.0\n",
      "cy[2]=1.0\n",
      "cy[3]=0.0\n",
      "cy[4]=-1.0\n",
      "cy[5]=1.0\n",
      "cy[6]=1.0\n",
      "cy[7]=-1.0\n",
      "cy[8]=-1.0"
     ],
     "language": "python",
     "metadata": {},
     "outputs": [],
     "prompt_number": 151
    },
    {
     "cell_type": "code",
     "collapsed": false,
     "input": [
      "T[0:ny+1,0:nx+1]=0.0\n",
      "T[0:ny+1,0]=1.0              # Left T=1\n",
      "T[0:ny+1,nx]=0.0             # right T=0.0\n",
      "T[ny,0:nx+1]=0.0           # Top  T=0.0 \n",
      "\n",
      "\n",
      "for i in range(nx+1):\n",
      "  for j in range(ny+1):\n",
      "   for l in range (k): #k=0,1,2,3,4      \n",
      "    f[l,j,i]=w[l]*T[j,i]"
     ],
     "language": "python",
     "metadata": {},
     "outputs": [],
     "prompt_number": 152
    },
    {
     "cell_type": "markdown",
     "metadata": {},
     "source": [
      "  Main loop  : comprised two parts :collision and streaming"
     ]
    },
    {
     "cell_type": "code",
     "collapsed": false,
     "input": [
      "for n in range(mstep) :\n",
      "    \n",
      "# collision process   \n",
      " for i in range(nx+1):\n",
      "  for j in range(ny+1):\n",
      "   for l in range (k):\n",
      "    feq=w[l]*T[j,i]*( 1.+ 3.*(cx[l]*u+cy[l]*v )   )    \n",
      "    f[l,j,i]=(1.-omega)*f[l,j,i]+omega*feq    \n",
      " \n",
      "#streaming process\n",
      "# ==========================\n",
      " for i in range(nx):\n",
      "  for j in range(ny,0,-1):  \n",
      "   f[6,j,i]=f[6,j-1,i+1]\n",
      "   f[2,j,i]=f[2,j-1,i]\n",
      "\n",
      " for i in range(nx,0,-1):\n",
      "  for j in range(ny,0,-1):  \n",
      "   f[5,j,i]=f[5,j-1,i-1]\n",
      "   f[1,j,i]=f[1,j,i-1] \n",
      "\n",
      " for i in range(nx,0,-1):\n",
      "  for j in range(0,ny):  \n",
      "   f[8,j,i]=f[8,j+1,i-1]\n",
      "   f[4,j,i]=f[4,j+1,i]\n",
      "\n",
      " for i in range(0,nx):\n",
      "  for j in range(0,ny):  \n",
      "   f[7,j,i]=f[7,j+1,i+1]\n",
      "   f[3,j,i]=f[3,j,i+1]\n",
      "\n",
      "# Boundary condition \n",
      "#  =============================\n",
      " for j in range(0,ny+1) :               #left Boundary\n",
      "  f[1,j,0]=( Tleft*(w[1]+w[3]) )-f[3,j,0]\n",
      "  f[5,j,0]=( Tleft*(w[5]+w[7]) )-f[7,j,0]\n",
      "  f[8,j,0]=( Tleft*(w[8]+w[6]) )-f[6,j,0]\n",
      "  \n",
      " for j in range(0,ny+1):                #right Boundary\n",
      "  f[3,j,nx]=( Tright*(w[1]+w[3]) )-f[1,j,nx]\n",
      "  f[7,j,nx]=( Tright*(w[5]+w[7]) )-f[5,j,nx]\n",
      "  f[6,j,nx]=( Tright*(w[8]+w[6]) )-f[8,j,nx]\n",
      "  \n",
      " for i in range(0,nx+1):                # top Boundary\n",
      "  f[4,ny,0:nx+1]=( Ttop*(w[4]+w[2]) )-f[2,ny,0:nx+1]\n",
      "  f[7,ny,0:nx+1]=( Ttop*(w[7]+w[5]) )-f[5,ny,0:nx+1]\n",
      "  f[8,ny,0:nx+1]=( Ttop*(w[8]+w[6]) )-f[6,ny,0:nx+1]\n",
      "  \n",
      "\n",
      " for i in range(1,nx):                # bottom  Boundary\n",
      "  for l in range(k):\n",
      "   f[l,0,i]=f[l,1,i]\n",
      "   \n",
      "  \n",
      "#================================  \n",
      " \n",
      " for i in range(nx+1):\n",
      "  for j in range(ny+1):\n",
      "   sum=0.0\n",
      "   for l in range (k):\n",
      "    sum=sum+f[l,j,i]\n",
      "   T[j,i]=sum\n",
      " T[0:ny+1,0]=Tleft\n",
      " T[0:ny+1,nx]=Tright\n",
      " T[0,1:nx]=T[1,1:nx]  #  adiabatic boundary\n",
      " T[ny,1:nx]=Ttop\n",
      "#==============================\n",
      "#=============================="
     ],
     "language": "python",
     "metadata": {},
     "outputs": [],
     "prompt_number": 153
    },
    {
     "cell_type": "markdown",
     "metadata": {},
     "source": [
      " Finite Difference Method "
     ]
    },
    {
     "cell_type": "code",
     "collapsed": false,
     "input": [
      "Tf=numpy.ones((ny+1,nx+1) )   # finite difference Temperature matrix\n",
      "To=numpy.ones((ny+1,nx+1) ) \n",
      "\n",
      "mstep=1000\n",
      "dx=1.0\n",
      "dy=1.0\n",
      "alpha=1.0\n",
      "dt=0.2\n",
      "\n",
      "\n",
      "Tf[0:nx+1,0:ny+1]=0.0\n",
      "Tf[0:ny+1,0]=1.0\n",
      "Tf[0:ny+1,nx]=0.0"
     ],
     "language": "python",
     "metadata": {},
     "outputs": [],
     "prompt_number": 154
    },
    {
     "cell_type": "code",
     "collapsed": false,
     "input": [
      "for n in range (mstep):\n",
      " To[0:ny+1,0:nx+1]=Tf[0:ny+1,0:nx+1]\n",
      " for j in range (1,ny):\n",
      "  for i in range (1,nx):\n",
      "   Txx=(To[j,i+1]+To[j,i-1])\n",
      "   Tyy=(To[j+1,i]+To[j-1,i])\n",
      "   advx=dt*u*(To[j,i]-To[j,i-1])/dx\n",
      "   advy=dt*v*(To[j,i]-To[j-1,i])/dy\n",
      "   advt=advx+advy\n",
      "   Tf[j,i]=To[j,i]+ (dt*alpha*(Txx+Tyy-4.*To[j,i])/(dx**2))-advt\n",
      "#\n",
      " Tf[0:ny+1,0]=Tleft\n",
      " Tf[0:ny+1,nx]=Tright\n",
      " Tf[0,1:nx]=Tf[1,1:nx]  #  adiabatic boundary\n",
      " Tf[ny,1:nx]=Ttop\n",
      "##"
     ],
     "language": "python",
     "metadata": {},
     "outputs": [],
     "prompt_number": 155
    },
    {
     "cell_type": "code",
     "collapsed": false,
     "input": [
      "\n",
      "CS1 = plt.contour(x,y,Tf)\n",
      "title('Finite Difference Method')\n",
      "clabel(CS1,inline='True')\n",
      "plt.xlabel('$x$')\n",
      "plt.ylabel('$y$')\n",
      "show()\n",
      "\n"
     ],
     "language": "python",
     "metadata": {},
     "outputs": [
      {
       "metadata": {},
       "output_type": "display_data",
       "png": "[encoded data removed]",
       "text": [
        "<matplotlib.figure.Figure at 0x7f7e65058690>"
       ]
      }
     ],
     "prompt_number": 156
    },
    {
     "cell_type": "code",
     "collapsed": false,
     "input": [
      "CS2 = plt.contour(x,y,T)\n",
      "title('Lattice Boltzmann Method')\n",
      "clabel(CS2,inline='True')\n",
      "plt.xlabel('$x$')\n",
      "plt.ylabel('$y$')\n",
      "show()"
     ],
     "language": "python",
     "metadata": {},
     "outputs": [
      {
       "metadata": {},
       "output_type": "display_data",
       "png": "[encoded data removed]",
       "text": [
        "<matplotlib.figure.Figure at 0x7f7e64e6c150>"
       ]
      }
     ],
     "prompt_number": 157
    },
    {
     "cell_type": "code",
     "collapsed": false,
     "input": [
      "plt.figure(figsize=(7,10), dpi=100)\n",
      "T1=T[ny/2,0:nx+1]\n",
      "T2=Tf[ny/2,0:nx+1]\n",
      "plt.xlim(0,100)\n",
      "plt.ylim(-0.05,1.05)\n",
      "plt.plot(x,T1, 'r-'); \n",
      "plt.plot(x,T2, 'bo'); \n",
      "plt.legend(['LBM','FDM']); \n",
      "plt.xlabel('$x$')\n",
      "plt.ylabel('$y$')\n",
      "show()\n"
     ],
     "language": "python",
     "metadata": {},
     "outputs": [
      {
       "metadata": {},
       "output_type": "display_data",
       "png": "[encoded data removed]",
       "text": [
        "<matplotlib.figure.Figure at 0x7f7e64feab10>"
       ]
      }
     ],
     "prompt_number": 158
    },
    {
     "cell_type": "code",
     "collapsed": false,
     "input": [],
     "language": "python",
     "metadata": {},
     "outputs": [],
     "prompt_number": 158
    }
   ],
   "metadata": {}
  }
 ]
}