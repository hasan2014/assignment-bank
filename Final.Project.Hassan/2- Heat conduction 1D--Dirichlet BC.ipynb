{
 "metadata": {
  "name": "",
  "signature": "sha256:de5b8f221a0d9f9feb714054734965b1d7a8d7446beb4e4f4f56f3eadc267ee4"
 },
 "nbformat": 3,
 "nbformat_minor": 0,
 "worksheets": [
  {
   "cells": [
    {
     "cell_type": "code",
     "collapsed": false,
     "input": [
      "import numpy \n",
      "import matplotlib\n",
      "import numpy as np\n",
      "import matplotlib.cm as cm\n",
      "import matplotlib.mlab as mlab\n",
      "import matplotlib.pyplot as plt\n",
      "\n",
      "\n",
      "%matplotlib inline\n",
      "from matplotlib import rcParams\n",
      "rcParams['font.family'] = 'serif'\n",
      "rcParams['font.size'] = 16"
     ],
     "language": "python",
     "metadata": {},
     "outputs": [],
     "prompt_number": 24
    },
    {
     "cell_type": "markdown",
     "metadata": {},
     "source": [
      "The purpose of this module is to apply Drichlet boundary condition "
     ]
    },
    {
     "cell_type": "code",
     "collapsed": false,
     "input": [
      "nx=100                           # the number of nodes in lattice direction \n",
      "dt=1\n",
      "dx=1\n",
      "x1=0.\n",
      "x2=1.0                           # the length \n",
      "alpha=0.25                       # heat diffusion coefficient \n",
      "D=1                              # the dimension of the problem \n",
      "mstep=6000                       # the number of time step\n",
      "omega=1./(0.5+(alpha*D))         #Chapman-Enskog  dt=1 and dx=1 \n",
      "Tleft=1.0                        # left wall temperature\n",
      "Tright=0.0                       # right wall temperature\n",
      "k=3                              # k=0,1,2    <==== c(2)===c(0)====> c(1)"
     ],
     "language": "python",
     "metadata": {},
     "outputs": [],
     "prompt_number": 25
    },
    {
     "cell_type": "code",
     "collapsed": false,
     "input": [
      "x=numpy.linspace(x1,x2,nx+1)\n",
      "w=numpy.zeros(k)                           # weitghting factor\n",
      "T=numpy.zeros(nx+1)                       # Temperature matrix\n",
      "f= numpy.zeros((k, nx+1))                 # distribution function\n",
      "feq= numpy.zeros((k, nx+1))               # Equilibrum distribution function"
     ],
     "language": "python",
     "metadata": {},
     "outputs": [],
     "prompt_number": 26
    },
    {
     "cell_type": "code",
     "collapsed": false,
     "input": [
      "w[0]=0.0\n",
      "w[1]=0.5\n",
      "w[2]=0.5  # k=3"
     ],
     "language": "python",
     "metadata": {},
     "outputs": [],
     "prompt_number": 27
    },
    {
     "cell_type": "code",
     "collapsed": false,
     "input": [
      "T[:]=0.0                                   #initial temperature\n",
      "T[0]=1.0\n",
      "for i in range (k): #k=0,1,2\n",
      " f[i,:]=w[i]*T[:]"
     ],
     "language": "python",
     "metadata": {},
     "outputs": [],
     "prompt_number": 28
    },
    {
     "cell_type": "code",
     "collapsed": false,
     "input": [
      "#================== Initial value \n",
      "\n",
      "T[:]=0.0 #initial temperature\n",
      "T[0]=1.0\n",
      "for i in range (k): #k=0,1,2\n",
      " f[i,:]=w[i]*T[:]"
     ],
     "language": "python",
     "metadata": {},
     "outputs": [],
     "prompt_number": 29
    },
    {
     "cell_type": "code",
     "collapsed": false,
     "input": [
      "#   Main loop  : comprised two parts :collision and streaming\n",
      "\n",
      "#=====================\n",
      "for n in range(mstep) :\n",
      "                                                        # collision process\n",
      " for i in range(nx+1):\n",
      "  T[i]=f[0,i]+f[1,i]+f[2,i]\n",
      "  feq[0:k,i]=w[0:k]*T[i]\n",
      "  f[0:k,i]=(1.-omega)*f[0:k,i]+omega*feq[0:k,i]\n",
      "                                                        # streaming process\n",
      " for i in range(0,nx):\n",
      "  f[1,nx-i]=f[1,nx-i-1]\n",
      "  f[2,i]=f[2,i+1]\n",
      "\n",
      "                                                    # Boundary condition \n",
      "                        \n",
      " f[1,0]=Tleft-f[2,0]   # constant temperature at left  T=1,0\n",
      " f[2,nx]=Tright-f[1,nx] # constant temperature at right T=0.0\n",
      " T[0]=1.0\n",
      " T[nx]=0.0\n",
      "                        \n",
      "# end of the main loop"
     ],
     "language": "python",
     "metadata": {},
     "outputs": [],
     "prompt_number": 30
    },
    {
     "cell_type": "code",
     "collapsed": false,
     "input": [
      "#     Finite difference # \n",
      "\n",
      "\n",
      "Tf=numpy.zeros(nx+1)   # Temperature finite difference\n",
      "To=numpy.zeros(nx+1)   # Temperature storaage for previous time\n",
      "Tf[0]=1.0\n",
      "Tf[nx]=0.0\n",
      "dx=1./nx\n",
      "dt=1e-4                    #  2*alpha*dt/dx^2  << 1 === > for stability\n",
      "for n in range(mstep) :\n",
      " To[:]=Tf[:]\n",
      " for i in range(1,nx):\n",
      "  Tf[i]=To[i]+ ( (dt*alpha/(dx**2.)) *(To[i+1]-2*To[i]+To[i-1]) )"
     ],
     "language": "python",
     "metadata": {},
     "outputs": [],
     "prompt_number": 31
    },
    {
     "cell_type": "code",
     "collapsed": false,
     "input": [
      "plt.figure(figsize=(15,6), dpi=100)\n",
      "plt.xlabel('x', fontsize=10) #x label\n",
      "plt.ylabel('T', fontsize=10) #y label\n",
      "plt.plot(x,T, 'r-',label=' Lattice Boltzmann Method'); \n",
      "plt.plot(x,Tf, 'bo',label=' Finite Difference Method '); \n",
      "plt.legend();"
     ],
     "language": "python",
     "metadata": {},
     "outputs": [
      {
       "metadata": {},
       "output_type": "display_data",
       "png": "[encoded data removed]",
       "text": [
        "<matplotlib.figure.Figure at 0x7fb2f8d95650>"
       ]
      }
     ],
     "prompt_number": 34
    },
    {
     "cell_type": "code",
     "collapsed": false,
     "input": [],
     "language": "python",
     "metadata": {},
     "outputs": []
    }
   ],
   "metadata": {}
  }
 ]
}