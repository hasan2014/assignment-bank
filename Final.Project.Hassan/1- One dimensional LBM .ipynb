{
 "metadata": {
  "name": "",
  "signature": "sha256:89ce39a1a74b61289f9abef688252341f623a2311cb3d3d5a0d6e648087ca028"
 },
 "nbformat": 3,
 "nbformat_minor": 0,
 "worksheets": [
  {
   "cells": [
    {
     "cell_type": "code",
     "collapsed": false,
     "input": [
      "import numpy \n",
      "import matplotlib\n",
      "import numpy as np\n",
      "import matplotlib.cm as cm\n",
      "import matplotlib.mlab as mlab\n",
      "import matplotlib.pyplot as plt\n",
      "\n",
      "\n",
      "%matplotlib inline\n",
      "from matplotlib import rcParams\n",
      "rcParams['font.family'] = 'serif'\n",
      "rcParams['font.size'] = 16"
     ],
     "language": "python",
     "metadata": {},
     "outputs": [],
     "prompt_number": 25
    },
    {
     "cell_type": "markdown",
     "metadata": {},
     "source": [
      "\n",
      "**One Dimensional Heat Conduction**\n",
      "\n",
      " Considering the plate with hot wall on the left boundary and the cold wall on the right, we need to solve a Navier-stokes equation which has only diffusion part. The procedures can be categorized as follow:\n",
      "\n",
      "\n",
      "1- create dimensions and Lattice nodes and physical parameters\n",
      "\n",
      "2- calculate collision function\n",
      "\n",
      "3-  streaming the distribution function after particles' collision\n",
      "\n",
      "4- imply proper boundary condition on the walls for temperature\n",
      "\n",
      "5-  obtain temperature based on summing temperature distribution function\n",
      "\n",
      "6-  repeat the procedure until the criteria of convergence is satisfied\n",
      "\n",
      "\n",
      " Note:\n",
      "\n",
      "1- We want to solve one dimensional equation therefore it is reasonable to use D1Q3. It means the lattice velocities are placed on the left and right hand side of the center node  . Each point has its weighting coefficient.\n",
      "\n",
      "2-  As we discussed in the introduction summing distribution function $f$ reveals the accumulation or probability of particles defined as density. You know that density is a scalar parameter. For obtaining temperature distribution or any transport phenomena we need to simulate the scalars with defining distribution function. This is the strategy which will be implemented in each problem. However: The equilibrium distribution function for Advection-diffusion is different from diffusion. In fact equilibrium function will be modified by some parameters to involves the effect of velocities to have advection effects ( we will talk about this issue in Lid-driven and natural convection Example )\n",
      "\n",
      "3-  In our numerical class we learned Finite difference method so here we validate our code with making comparison with FDM. For FDM we consider forward time step and central differences for diffusion part. We know that central is second order accuracy and creates stability solution for diffusion problem but not for advection one.\n",
      "\n",
      "\n",
      "\n",
      "\n",
      "** Important Points in LBM: **\n",
      "\n",
      " Proper unit conversions are required to model problems with LBM. Always find all independent dimensionless numbers for given problem before anything else is done. At first we need to convert equations into non-dimensional format then some physical non-dimensional parameters will appear. We use these parameters to make compatible and identical physical conditions between LBM and original format. LBM's equation is similar to Navier-stokes because both of them are transport equations with diffusion and advection parts.\n",
      "\n",
      "       \n",
      "\n",
      " Question 1: What should we do when we have source terms? Answer later because in this example we do not have source term.\n",
      "\n",
      " Question 2: How can we deal with the boundaries which have Flux? If you remember we learned in Numerical class how can we obtain proper boundary condition when we have flux? The same procedure is used here by considering the fact that the scalar value in each node is equal to the sum of distribution function (which itself has two directions in 1D or 8 directions in 2D). \n",
      "\n",
      " \n",
      "\n",
      " For our problem now we need to know how to apply constant value for temperature or insulated boundary. What form the distribution function would take? Considering the left boundary we have:\n",
      "\n",
      "\n",
      "$$\\begin{array}{l} {f_{1}^{eq} (0,t)-f_{1}^{} (0,t)+f_{2}^{eq} (0,t)-f_{2}^{} (0,t)=0} \\\\ {f_{1}^{eq} (0,t)=\\omega _{1} .T(0,t)=\\omega _{1} .T_{w} } \\\\ {f_{2}^{eq} (0,t)=\\omega _{2} .T(0,t)=\\omega _{2} .T_{w} } \\\\ {x=0\\, \\, :\\, \\, \\, \\, f_{1} (0)+f_{2} (0)=T_{w} } \\\\ {STREAMING\\, :\\, \\, f_{2} (0)=f_{2} (1)} \\\\ {f_{1} (0)=T_{w} -f_{2} (0)} \\end{array}$$\n",
      "\n",
      "\n",
      " For having insulated boundary the distribution function in one direction needs to be damped by the distribution function of opposite direction right on the boundary: for example if the left wall was adiabatic then we had :\n",
      "\n",
      "\n",
      "$$\\begin{array}{l} {f_{1} (0)=f_{3} (0)} \\\\ {f_{5} (0)=f_{7} (0)} \\\\ {f_{8} (0)=f_{6} (0)} \\end{array}$$ \n",
      "\n",
      "Two dimensional heat conduction equation:\n",
      "\n",
      "$\\frac{\\partial T}{\\partial t} =\\alpha \\, \\, [\\, \\, \\frac{\\partial }{\\partial x} (\\frac{\\partial T}{\\partial x} )+\\frac{\\partial }{\\partial y} (\\frac{\\partial T}{\\partial y} )\\, \\, ]$$\\frac{\\partial T}{\\partial t} =\\alpha \\, \\, [\\, \\, \\frac{\\partial }{\\partial x} (\\frac{\\partial T}{\\partial x} )+\\frac{\\partial }{\\partial y} (\\frac{\\partial T}{\\partial y} )\\, \\, ]$\n",
      "\n",
      " \n",
      "\n",
      "\n",
      "\n",
      " Connection with FD and the Navier-Stokes Equations:\n",
      "\n",
      " The Lattice Boltzmann method can be viewed as a special finite difference method .The primary reason why LBM can serve as a method for fluid simulations is that the Navier-Stokes equations can be recovered from the discrete equations through the \"Chapman-Enskog\" procedure, a multi-scaling expansion technique .We are familiar with this equation thanks to the heat transfer course. As we discussed for modelling we need to convert the equation to LBM format and find about the relation between diffusion coefficients (in this example$\\alpha $) or as another example we can refer to the kinematic viscosity in fluid problems and relaxation time in LBM. For achieving this goal we need to follow ``Chapman-Enskog'' method. Please review this section from original textbook. By applying Chapmann -Enskog we found that: (For D1Q3 D=2 and for D2Q9 it takes D=3)\n",
      "$$\\alpha =\\frac{\\Delta x^{2} }{D\\Delta t} (\\frac{1}{\\omega } -\\frac{1}{2} )$$\n",
      "\n",
      "\n",
      "\n"
     ]
    },
    {
     "cell_type": "code",
     "collapsed": false,
     "input": [
      "nx=100                                                   # the number of nodes in lattice direction  \n",
      "dt=1                                                     # Lattice spacing between two particle in x direction\n",
      "dx=1                                                     # Time interval between two step \n",
      "ck=dx/dt                                                 # Lattice speed\n",
      "csq=ck*ck\n",
      "         \n",
      "u=0.1\n",
      "x1=0.                                                    # position left wall\n",
      "x2=1.0                                                   # position right wall (the length) \n",
      "alpha=0.25                                               # Heat diffusion coefficient \n",
      "D=1                                                      # The dimension of the problem \n",
      "mstep=int (0.04*nx**2)                                   # The number of time step\n",
      "omega=1./(0.5+(alpha/(dt*csq)))                          # Chapman-Enskog  dt=1 and dx=1 \n",
      "Tleft=1.0                                                 # left wall temperature\n",
      "Tright=0.0                                                # right wall temperature\n",
      "k=3                                                       # k=0,1,2    <==== c(2)===c(0)====> c(1)  "
     ],
     "language": "python",
     "metadata": {},
     "outputs": [],
     "prompt_number": 26
    },
    {
     "cell_type": "code",
     "collapsed": false,
     "input": [
      "xl=numpy.linspace(x1,x2,nx+1)\n",
      "xl=xl*100\n",
      "w=numpy.zeros(k)                                         # weighting factor\n",
      "\n",
      "cx=numpy.zeros(k)                                        # lattice speeds\n",
      "\n",
      "T=numpy.zeros(nx+1)                                      # Temperature matrix\n",
      "f= numpy.zeros((k, nx+1))                                # distribution function \n",
      "feq= numpy.zeros((k, nx+1))                              # Equilibrum distribution function"
     ],
     "language": "python",
     "metadata": {},
     "outputs": [],
     "prompt_number": 27
    },
    {
     "cell_type": "code",
     "collapsed": false,
     "input": [
      "w[0]=0.0                                                  # weighting coefficients\n",
      "w[1]=0.5\n",
      "w[2]=0.5  # k=3\n",
      "\n",
      "cx[0]=0.0                                                # node speed coefficients\n",
      "cx[1]=1.0\n",
      "cx[2]=-1.0"
     ],
     "language": "python",
     "metadata": {},
     "outputs": [],
     "prompt_number": 28
    },
    {
     "cell_type": "code",
     "collapsed": false,
     "input": [
      "T[:]=0.0                                                 #initial temperature\n",
      "T[0]=1.0 \n",
      "for i in range (k):                                     #initial distribution function\n",
      " f[i,:]=w[i]*T[:]"
     ],
     "language": "python",
     "metadata": {},
     "outputs": [],
     "prompt_number": 29
    },
    {
     "cell_type": "markdown",
     "metadata": {},
     "source": [
      "Main loop  : comprised two parts :collision and streaming"
     ]
    },
    {
     "cell_type": "code",
     "collapsed": false,
     "input": [
      "for n in range(mstep) :\n",
      "                                                   # collision process\n",
      " for i in range(nx+1):\n",
      "  T[i]=f[0,i]+f[1,i]+f[2,i]\n",
      "  feq[0:k,i]=w[0:k]*T[i]*( 1.+(cx[0:k]*u) )\n",
      "  f[0:k,i]=(1.-omega)*f[0:k,i]+omega*feq[0:k,i]\n",
      "                                                   # streaming process\n",
      " for i in range(0,nx):\n",
      "  f[1,nx-i]=f[1,nx-i-1]\n",
      "  f[2,i]=f[2,i+1]\n",
      "\n",
      "                                                   # Boundary condition \n",
      "                        \n",
      " f[1,0]=Tleft-f[2,0]                               # constant temperature at left  T=1,0\n",
      " f[2,nx]=Tright-f[1,nx]                            # constant temperature at right T=0.0\n",
      " T[0]=1.0\n",
      " T[nx]=0.0\n",
      "                                                  # end of the main loop"
     ],
     "language": "python",
     "metadata": {},
     "outputs": [],
     "prompt_number": 30
    },
    {
     "cell_type": "markdown",
     "metadata": {},
     "source": [
      "\n",
      "\n",
      "Finite difference #  Advection-Diffusion \n",
      "\n",
      "Do you remember what  criteria should be used in FDM to guarantee stabilization ? We help you to remember :"
     ]
    },
    {
     "cell_type": "markdown",
     "metadata": {},
     "source": [
      "2*alpha*dt/dx^2  << 1"
     ]
    },
    {
     "cell_type": "code",
     "collapsed": false,
     "input": [
      "\n",
      "dt=0.25                                           # time step \n",
      "mstep=1600                                        # number of iteration\n",
      "nx=200                                            # number of nodes in x direction\n",
      "lx=100.                                           # length of the plate\n",
      "dx=lx/nx                                          # space between two adjacent node\n",
      "x=numpy.linspace(0,lx,nx+1)                       # matrix which store each node position\n",
      "\n",
      "Tf=numpy.zeros(nx+1)                              # Temperature finite difference\n",
      "To=numpy.zeros(nx+1)                              # Temperature storaage for previous time\n",
      "\n",
      "Tf[0]=1.0                                         # Boundary condition left wall                                   \n",
      "Tf[nx]=0.0                                        # Boundary condition right wall"
     ],
     "language": "python",
     "metadata": {},
     "outputs": [],
     "prompt_number": 31
    },
    {
     "cell_type": "markdown",
     "metadata": {},
     "source": []
    },
    {
     "cell_type": "code",
     "collapsed": false,
     "input": [
      "\n",
      "for n in range(mstep) :\n",
      " To[:]=Tf[:]\n",
      " for i in range(1,nx):\n",
      "  adv=dt*u*(To[i]-To[i-1])/dx\n",
      "  Tf[i]=To[i]+ ( (dt*alpha/(dx**2.)) *(To[i+1]-2*To[i]+To[i-1]) -adv)"
     ],
     "language": "python",
     "metadata": {},
     "outputs": [],
     "prompt_number": 32
    },
    {
     "cell_type": "code",
     "collapsed": false,
     "input": [
      "plt.figure(figsize=(10,5), dpi=100)\n",
      "plt.xlabel('x', fontsize=10) #x label\n",
      "plt.ylabel('T', fontsize=10) #y label\n",
      "plt.plot(x,Tf, 'r-',label=' Lattice Boltzmann Method'); \n",
      "plt.plot(xl,T, 'b*',label=' Finite Difference Method '); \n",
      "plt.legend();\n"
     ],
     "language": "python",
     "metadata": {},
     "outputs": [
      {
       "metadata": {},
       "output_type": "display_data",
       "png": "[encoded data removed]",
       "text": [
        "<matplotlib.figure.Figure at 0x7fa265a72150>"
       ]
      }
     ],
     "prompt_number": 33
    }
   ],
   "metadata": {}
  }
 ]
}