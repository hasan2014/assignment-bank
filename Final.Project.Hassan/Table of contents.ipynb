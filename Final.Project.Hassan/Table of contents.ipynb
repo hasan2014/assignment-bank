{
 "metadata": {
  "name": "",
  "signature": "sha256:e03335c70b66e5bb4d3b2681b342ef64ccc4ae01088ea86bc2943f0ca81f06aa"
 },
 "nbformat": 3,
 "nbformat_minor": 0,
 "worksheets": [
  {
   "cells": [
    {
     "cell_type": "markdown",
     "metadata": {},
     "source": [
      "Table of Contents :"
     ]
    },
    {
     "cell_type": "markdown",
     "metadata": {},
     "source": [
      "Introduction :\n",
      "\n",
      "The report starts from introduction . \n",
      "In this file we try to illustrate some basic and imporant formulas applying in our codes . It is of course necessary to read the references at first . There are three references provided in introduction file and among them the first one is highly recommonded for start . The second one includes some examples and also additional information and the third one contains some useful points how to make similarity between physical parameters between LBM and the equations we tend to solve . There are so many other references which might better than these three references and also might have useful information ."
     ]
    },
    {
     "cell_type": "markdown",
     "metadata": {},
     "source": [
      "The codes number (1) To (8) :\n",
      "\n",
      "The main codes start from number one . In this code we learn how to model diffusion equation . Up to the code number \"8\" we are working on heat conduction with different examples and boundary conditions . The first two codes are related to one dimensional diffusion equation . The code number 3 deals with two dimensional equation and as we illustrated there could be considered two types for particle distribution in two dimensional problems called D2Q9 and D2Q5 . \n",
      "In code number \"5\" we try to make a platform for two dimensional equation with D2Q9 by exploring the known heat conduction problem in a cavity (as a benchmark example) . Also the module 4 related problems are discussed in the codes from \"6\" to \"8\" . All These codes are compared with Finite differences method (FDM) which we learned in our numerical class ."
     ]
    },
    {
     "cell_type": "markdown",
     "metadata": {},
     "source": [
      "Lid-driven :\n",
      "\n",
      "After providing the basic codes for diffusion now it is time to develope our codes to Navier-Stokes equation . The Lid-driven flow was selected as a benchmark example which is used usually . The complementary description is discussed in each file separately . In this section also the comparison was made however we directly used the data ( we do not solve FDM in this code )."
     ]
    },
    {
     "cell_type": "markdown",
     "metadata": {},
     "source": [
      "Natural convection:\n",
      "\n",
      "After Lid driven problem we extend our code to Natural convection to consider the coupled problem and also bouyancy source term . full description are included in the file . Three different Rayleigh number were considered to show the effects of bouyancy in transition from heat conduction to natural convection . "
     ]
    },
    {
     "cell_type": "markdown",
     "metadata": {},
     "source": [
      "Immersed Rectangular body :\n",
      "\n",
      "In the last module we will learn how to put an immersed body in the domain . we did it for natural convection problem with a rectangular immersed body ( can be converted to square ) . \n"
     ]
    },
    {
     "cell_type": "code",
     "collapsed": false,
     "input": [],
     "language": "python",
     "metadata": {},
     "outputs": []
    }
   ],
   "metadata": {}
  }
 ]
}