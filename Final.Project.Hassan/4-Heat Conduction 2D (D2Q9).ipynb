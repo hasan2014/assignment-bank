{
 "metadata": {
  "name": "",
  "signature": "sha256:743de3e993368a7414a7a0d025479c1a855f6dfb1bef9910f8a25adddd026ed1"
 },
 "nbformat": 3,
 "nbformat_minor": 0,
 "worksheets": [
  {
   "cells": [
    {
     "cell_type": "code",
     "collapsed": false,
     "input": [
      "import numpy \n",
      "import matplotlib\n",
      "import numpy as np\n",
      "import matplotlib.cm as cm\n",
      "import matplotlib.mlab as mlab\n",
      "import matplotlib.pyplot as plt\n",
      "\n",
      "%matplotlib inline\n",
      "from pylab import *"
     ],
     "language": "python",
     "metadata": {},
     "outputs": [],
     "prompt_number": 1
    },
    {
     "cell_type": "markdown",
     "metadata": {},
     "source": [
      "In this part we want to explore D2Q9 and make platform for our future codes. In this code we would have 9 direction lattice velocities. The boundaries are the same as the D2Q5\u2019s example.\n"
     ]
    },
    {
     "cell_type": "code",
     "collapsed": false,
     "input": [
      "nx=50 # the number of nodes in x direction lattice direction \n",
      "ny=50 # the number of nodes in y direction lattice direction \n",
      "\n",
      "\n",
      "alpha=0.25*ny # heat diffusion coefficient \n",
      "D=3.0 # the dimension of the problem \n",
      "mstep=2000 # the number of time step\n",
      "omega=1./(0.5+(alpha*D))     #Chapman-Enskog  dt=1 and dx=1 \n",
      "\n",
      "Tleft=1.0    # left wall temperature\n",
      "Tright=0.0   # right wall temperature\n",
      "k=9 # k=0,1,2,3,4,5,6,8,9  "
     ],
     "language": "python",
     "metadata": {},
     "outputs": [],
     "prompt_number": 2
    },
    {
     "cell_type": "code",
     "collapsed": false,
     "input": [
      "x=numpy.linspace(0,1,nx+1)\n",
      "y=numpy.linspace(0,1,ny+1)\n",
      "w=numpy.ones(k)      # witghting factor\n",
      "T=numpy.ones((ny+1,nx+1) )   # Temperature matrix\n",
      "f= numpy.ones((k, ny+1,nx+1))   # distribution function"
     ],
     "language": "python",
     "metadata": {},
     "outputs": [],
     "prompt_number": 3
    },
    {
     "cell_type": "code",
     "collapsed": false,
     "input": [
      "##================ Initial boundary condition\n",
      "w[0]=4./9 #4./9\n",
      "w[1:5]=1./9.\n",
      "w[5:9]=1./36."
     ],
     "language": "python",
     "metadata": {},
     "outputs": [],
     "prompt_number": 4
    },
    {
     "cell_type": "code",
     "collapsed": false,
     "input": [
      "##================== Initial value\n",
      "\n",
      "T[0:ny+1,0:nx+1]=0.0\n",
      "T[0:ny+1,0]=1.0\n",
      "T[0:ny+1,nx]=0.0  \n",
      "\n",
      "\n",
      "for i in range(nx+1):\n",
      "  for j in range(ny+1):\n",
      "   for l in range (k): #k=0,1,2,3,4      \n",
      "    f[l,j,i]=w[l]*T[j,i]"
     ],
     "language": "python",
     "metadata": {},
     "outputs": [],
     "prompt_number": 5
    },
    {
     "cell_type": "code",
     "collapsed": false,
     "input": [
      "##   Main loop  : comprised two parts :collision and streaming\n",
      "##=====================\n",
      "for n in range(mstep) :\n",
      "    \n",
      "# collision process   \n",
      " for i in range(nx+1):\n",
      "  for j in range(ny+1):\n",
      "   for l in range (k):\n",
      "    feq=w[l]*T[j,i]    \n",
      "    f[l,j,i]=(1.-omega)*f[l,j,i]+omega*feq    \n",
      " \n",
      "#streaming process\n",
      "# ==========================\n",
      " for i in range(nx):\n",
      "  for j in range(ny,0,-1):  \n",
      "   f[6,j,i]=f[6,j-1,i+1]\n",
      "   f[2,j,i]=f[2,j-1,i]\n",
      "\n",
      " for i in range(nx,0,-1):\n",
      "  for j in range(ny,0,-1):  \n",
      "   f[5,j,i]=f[5,j-1,i-1]\n",
      "   f[1,j,i]=f[1,j,i-1] \n",
      "\n",
      " for i in range(nx,0,-1):\n",
      "  for j in range(0,ny):  \n",
      "   f[8,j,i]=f[8,j+1,i-1]\n",
      "   f[4,j,i]=f[4,j+1,i]\n",
      "\n",
      " for i in range(0,nx):\n",
      "  for j in range(0,ny):  \n",
      "   f[7,j,i]=f[7,j+1,i+1]\n",
      "   f[3,j,i]=f[3,j,i+1]\n",
      "\n",
      "# Boundary condition \n",
      "#  =============================\n",
      " for j in range(0,ny+1) :               #left Boundary\n",
      "  f[1,j,0]=( Tleft*(w[1]+w[3]) )-f[3,j,0]\n",
      "  f[5,j,0]=( Tleft*(w[5]+w[7]) )-f[7,j,0]\n",
      "  f[8,j,0]=( Tleft*(w[8]+w[6]) )-f[6,j,0]\n",
      "  \n",
      " for j in range(0,ny+1):                #right Boundary\n",
      "  f[3,j,nx]=( Tright*(w[1]+w[3]) )-f[1,j,nx]\n",
      "  f[7,j,nx]=( Tright*(w[5]+w[7]) )-f[5,j,nx]\n",
      "  f[6,j,nx]=( Tright*(w[8]+w[6]) )-f[8,j,nx]\n",
      "\n",
      " for i in range(1,nx):                # bottom and top Boundary\n",
      "  for l in range(k):\n",
      "   f[l,0,i]=f[l,1,i]\n",
      "   f[l,ny,i]=f[l,ny-1,i]\n",
      "  \n",
      "#================================  \n",
      " \n",
      " for i in range(nx+1):\n",
      "  for j in range(ny+1):\n",
      "   sum=0.0\n",
      "   for l in range (k):\n",
      "    sum=sum+f[l,j,i]\n",
      "   T[j,i]=sum\n",
      " T[0:ny+1,0]=Tleft\n",
      " T[0:ny+1,nx]=Tright\n",
      " T[0,1:nx]=T[1,1:nx]\n",
      " T[ny,1:nx]=T[ny-1,1:nx]\n",
      "#=============================="
     ],
     "language": "python",
     "metadata": {},
     "outputs": [],
     "prompt_number": 6
    },
    {
     "cell_type": "code",
     "collapsed": false,
     "input": [
      "#  Finite Difference Method \n",
      "\n",
      "#=============================\n",
      "Tf=numpy.ones((ny+1,nx+1) )   # finite difference Temperature matrix\n",
      "To=numpy.ones((ny+1,nx+1) ) \n",
      "\n",
      "mstep=20000\n",
      "dx=1./nx\n",
      "dy=1./ny\n",
      "alpha=0.25\n",
      "dt=1e-4\n",
      "\n",
      "\n",
      "Tf[0:nx+1,0:ny+1]=0.0\n",
      "Tf[0:ny+1,0]=1.0\n",
      "Tf[0:ny+1,nx]=0.0\n",
      "\n",
      "\n",
      "for n in range (mstep):\n",
      " To[0:nx+1,0:ny+1]=Tf[0:nx+1,0:ny+1]\n",
      " for j in range (1,ny):\n",
      "  for i in range (1,nx):\n",
      "   Txx=(To[j,i+1]+To[j,i-1])\n",
      "   Tyy=(To[j+1,i]+To[j-1,i])\n",
      "   Tf[j,i]=To[j,i]+ (dt*alpha*(Txx+Tyy-4.*To[j,i])/(dx**2))\n",
      "#\n",
      " Tf[0,1:nx]=Tf[1,1:nx]\n",
      " Tf[ny,1:nx]=Tf[ny-1,1:nx]  \n",
      "##"
     ],
     "language": "python",
     "metadata": {},
     "outputs": [],
     "prompt_number": 7
    },
    {
     "cell_type": "code",
     "collapsed": false,
     "input": [
      "CS1 = plt.contour(x,y,Tf)\n",
      "title('Finite Difference Method')\n",
      "clabel(CS1,inline='True')\n",
      "plt.xlabel('$x$')\n",
      "plt.ylabel('$y$')\n",
      "show()"
     ],
     "language": "python",
     "metadata": {},
     "outputs": [
      {
       "metadata": {},
       "output_type": "display_data",
       "png": "[encoded data removed]",
       "text": [
        "<matplotlib.figure.Figure at 0x7f8ceff34590>"
       ]
      }
     ],
     "prompt_number": 8
    },
    {
     "cell_type": "code",
     "collapsed": false,
     "input": [
      "CS2 = plt.contour(x,y,T)\n",
      "title('Lattice Boltzmann Method')\n",
      "clabel(CS2,inline='True')\n",
      "plt.xlabel('$x$')\n",
      "plt.ylabel('$y$')\n",
      "show()"
     ],
     "language": "python",
     "metadata": {},
     "outputs": [
      {
       "metadata": {},
       "output_type": "display_data",
       "png": "[encoded data removed]",
       "text": [
        "<matplotlib.figure.Figure at 0x7f8cefca7190>"
       ]
      }
     ],
     "prompt_number": 9
    },
    {
     "cell_type": "code",
     "collapsed": false,
     "input": [
      "T1=T[ny/2,0:nx+1]\n",
      "T2=Tf[ny/2,0:nx+1]\n",
      "plt.xlim(-0.001,1.1)\n",
      "plt.ylim(-0.001,1.1)\n",
      "plt.plot(x,T1, 'r-'); \n",
      "plt.plot(x,T2, 'bo'); \n",
      "plt.legend(['LBM','FDM']); \n",
      "plt.xlabel('$x$')\n",
      "plt.ylabel('$y$')\n",
      "show()\n"
     ],
     "language": "python",
     "metadata": {},
     "outputs": [
      {
       "metadata": {},
       "output_type": "display_data",
       "png": "[encoded data removed]",
       "text": [
        "<matplotlib.figure.Figure at 0x7f8cefbab8d0>"
       ]
      }
     ],
     "prompt_number": 10
    }
   ],
   "metadata": {}
  }
 ]
}