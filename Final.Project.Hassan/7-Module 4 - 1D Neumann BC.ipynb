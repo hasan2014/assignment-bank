{
 "metadata": {
  "name": "",
  "signature": "sha256:bb9b5b3e90e0880a39a83452d5481adafe43cc57fb5341c9ce0cc06cb16b83e2"
 },
 "nbformat": 3,
 "nbformat_minor": 0,
 "worksheets": [
  {
   "cells": [
    {
     "cell_type": "code",
     "collapsed": false,
     "input": [
      "import numpy \n",
      "import matplotlib\n",
      "import numpy as np\n",
      "import matplotlib.cm as cm\n",
      "import matplotlib.mlab as mlab\n",
      "import matplotlib.pyplot as plt\n",
      "\n",
      "\n",
      "%matplotlib inline\n",
      "from matplotlib import rcParams\n",
      "rcParams['font.family'] = 'serif'\n",
      "rcParams['font.size'] = 16"
     ],
     "language": "python",
     "metadata": {},
     "outputs": [],
     "prompt_number": 1
    },
    {
     "cell_type": "markdown",
     "metadata": {},
     "source": [
      "purpose : Solving Module 4 problem with neumann condition "
     ]
    },
    {
     "cell_type": "code",
     "collapsed": false,
     "input": [
      "nx=30 # the number of nodes in lattice direction \n",
      "dt=1\n",
      "dx=1\n",
      "x1=0.\n",
      "x2=1.0 # the length \n",
      "alpha=1.22e-3 # heat diffusion coefficient \n",
      "D=1 # the dimension of the problem \n",
      "mstep=70000 # the number of time step\n",
      "omega=1./(0.5+(alpha*D))     #Chapman-Enskog  dt=1 and dx=1 \n",
      "Tleft=100.0    # left wall temperature\n",
      "\n",
      "k=3 # k=0,1,2    <==== c(2)===c(0)====> c(1)"
     ],
     "language": "python",
     "metadata": {},
     "outputs": [],
     "prompt_number": 2
    },
    {
     "cell_type": "code",
     "collapsed": false,
     "input": [
      "x=numpy.linspace(x1,x2,nx+1)\n",
      "w=numpy.zeros(k)      # witghting factor\n",
      "T=numpy.zeros(nx+1)   # Temperature matrix\n",
      "f= numpy.zeros((k, nx+1))   # distribution function\n",
      "feq= numpy.zeros((k, nx+1)) # Equilibrum distribution function"
     ],
     "language": "python",
     "metadata": {},
     "outputs": [],
     "prompt_number": 3
    },
    {
     "cell_type": "code",
     "collapsed": false,
     "input": [
      "#================ Initial boundary condition\n",
      "w[0]=0.0\n",
      "w[1]=0.5\n",
      "w[2]=0.5  # k=3"
     ],
     "language": "python",
     "metadata": {},
     "outputs": [],
     "prompt_number": 4
    },
    {
     "cell_type": "code",
     "collapsed": false,
     "input": [
      "#================== Initial value \n",
      "T[:]=0.0 #initial temperature\n",
      "T[0]=100.0\n",
      "for i in range (k): #k=0,1,2\n",
      " f[i,:]=w[i]*T[:]"
     ],
     "language": "python",
     "metadata": {},
     "outputs": [],
     "prompt_number": 5
    },
    {
     "cell_type": "code",
     "collapsed": false,
     "input": [
      "#   Main loop  : comprised two parts :collision and streaming\n",
      "#=====================\n",
      "for n in range(mstep) :\n",
      "# collision process\n",
      " for i in range(nx+1):\n",
      "  T[i]=f[0,i]+f[1,i]+f[2,i]\n",
      "  feq[0:k,i]=w[0:k]*T[i]\n",
      "  f[0:k,i]=(1.-omega)*f[0:k,i]+omega*feq[0:k,i]\n",
      "# streaming process\n",
      " for i in range(0,nx):\n",
      "  f[1,nx-i]=f[1,nx-i-1]\n",
      "  f[2,i]=f[2,i+1]\n",
      "\n",
      "# Boundary condition \n",
      " f[1,0]=Tleft-f[2,0]   # constant temperature at left  T=100\n",
      " f[:,nx]=f[:,nx-1] # adiabatic\n",
      " T[0]=100.0\n",
      " T[nx]=T[nx-1]\n",
      "# end of the main loop\n"
     ],
     "language": "python",
     "metadata": {},
     "outputs": [],
     "prompt_number": 6
    },
    {
     "cell_type": "code",
     "collapsed": false,
     "input": [
      "#     Finite difference # \n",
      "Tf=numpy.zeros(nx+1)   # Temperature finite difference\n",
      "To=numpy.zeros(nx+1)   # Temperature storaage for previous time\n",
      "Tf[0]=100.0\n",
      "\n",
      "nx=30\n",
      "dx=1./nx\n",
      "dt=0.163  \n",
      "nt=500              #  2*alpha*dt/dx^2  << 1 === > for stability\n",
      "for n in range(nt) :\n",
      " Tf[nx]=Tf[nx-1]\n",
      " To[:]=Tf[:]\n",
      " for i in range(1,nx):\n",
      "  Tf[i]=To[i]+ ( (dt*alpha/(dx**2.)) *(To[i+1]-2*To[i]+To[i-1]) )"
     ],
     "language": "python",
     "metadata": {},
     "outputs": [],
     "prompt_number": 7
    },
    {
     "cell_type": "code",
     "collapsed": false,
     "input": [
      "plt.figure(figsize=(10,5), dpi=100)\n",
      "plt.xlabel('x', fontsize=10) #x label\n",
      "plt.ylabel('T', fontsize=10) #y label\n",
      "plt.plot(x,T, 'r-',label=' Lattice Boltzmann Method'); \n",
      "plt.plot(x,Tf, 'bo',label=' Finite Difference Method '); \n",
      "plt.legend();"
     ],
     "language": "python",
     "metadata": {},
     "outputs": [
      {
       "metadata": {},
       "output_type": "display_data",
       "png": "[encoded data removed]",
       "text": [
        "<matplotlib.figure.Figure at 0x7f9f7006ac90>"
       ]
      }
     ],
     "prompt_number": 9
    },
    {
     "cell_type": "code",
     "collapsed": false,
     "input": [],
     "language": "python",
     "metadata": {},
     "outputs": []
    }
   ],
   "metadata": {}
  }
 ]
}