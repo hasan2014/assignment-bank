{
 "metadata": {
  "name": "",
  "signature": "sha256:a582401bc8c4503b36cea1ade7d192302b9a43d2424b76000d0f0a77dbd5d35c"
 },
 "nbformat": 3,
 "nbformat_minor": 0,
 "worksheets": [
  {
   "cells": [
    {
     "cell_type": "markdown",
     "metadata": {},
     "source": [
      "**Introduction to Lattice Boltzmann Method**\n",
      "\n",
      "\n",
      "\n",
      "  In this module, we are going to learn how to solve diffusion and advection-diffusion (Navier-Stokes problem) in Fluid mechanic by Lattice Boltzmann Method (LBM). As we know there are two main approaches in simulating the transport equations continuum and discrete. As a continuum approach we can refer to the Finite difference method (FDM) which we learned in the numerical class. As we experienced in this class there are some criteria which should be met in each types of problems because of (nonlinearity, complex boundary conditions, complex geometry, etc.). If you remember following procedures in continuum approach are expected:\n",
      "\n",
      "  1- First the governing equations are identified (mainly partial differential equations).\n",
      "\n",
      "  2- The next step is to discretize the domain into volume, girds, or elements depending on the method of solution (FVM, FDM or FEM).\n",
      "\n",
      "  3- The scale is macroscopic. The velocity, pressure, temperature of all those particles represented by a nodal value, or averaged over a finite volume, or simply assumed linearly or bi-linearly varied from one node to another. Each volume or node or element contains a collection of particles (huge number, order of 10${}^{16}$).\n",
      "\n",
      "  In discrete approach (microscopic approach) the medium can be considered made of small particles (atom, molecule) and these particles collide with each other. This scale is micro-scale. Hence, we need to identify the inter-particle (inter-molecular) forces and solve ordinary differential equation of Newton's second law (momentum conservation).\n",
      "\n",
      "  The procedures are as follow:\n",
      "\n",
      "  1- At each time step, we need to identify location and velocity of each particle, i.e., trajectory of the particles.\n",
      "\n",
      "  2- Temperature and pressure are related to the kinetic energy of the particles (mass and velocity) and frequency of particles bombardment on the boundaries. This method is called molecular dynamics (MD) simulations.\n",
      "\n",
      "  3- The simulation time step should be less than the particles collision time, which is in the order of seconds (10${}^{-12}$ s). Hence, it is impossible to solve large size problems (order of cm) by MD method.\n",
      "\n",
      "  4- Statistical mechanics need to be used as a translator between the molecular world and the macroscopic world.\n",
      "\n",
      "  5- It is important to specify the appropriate inter-particle force function.\n",
      "\n",
      "  6- The main drawback or obstacle of using MD in simulation of a relatively large system is the computer resource and data reduction process, which will not be available for us in the seen future.\n",
      "\n",
      "  What about a middle man, sitting at the middle of both mentioned techniques, the lattice Boltzmann method?\n",
      "\n",
      "  \n",
      "\n",
      "  The main idea of Boltzmann is to bridge the gap between micro-scale and macro-scale by not considering each particle behavior alone but behavior of a collection of particles as a unit. The concepts of LBM are based on Ludwig Boltzmann's kinetic theory of gases. Therefore at first it is strongly recommended to study kinetic theory in detail.  The fundamental idea is that gases or fluids can be imagined as consisting of a large number of small particles moving with random motions. Here we only mention to some basic parts of LBM (because of our limitation) .It is highly recommended to review the below mentioned references and also the history of LBM. \n",
      "\n",
      "  \n",
      "\n",
      "  LBM comprises two basic steps called collision and propagation of fictitious particles. The exchange of momentum and energy is achieved through particle streaming and billiard-like particle collision. Considering $r$ as the position of a particle relative to the fixed reference node and lets us at first introduce particle distribution function $f$ defined as the number of molecules at time $t$ positioned between $r$and $r+dr$ which have velocities between $c$ and $c+dc$.\n",
      "\n",
      "   \n",
      "\n",
      "  The LBM simplifies Boltzmann's original idea of gas dynamics by reducing the number of particles and confining them to the nodes of a lattice. For a two dimensional model, a particle is restricted to stream in a possible of nine directions, including the one staying at rest. These velocities are referred to as the microscopic velocities and denoted by $e_{i} $ which i=0... 8 are known D2Q9 it means two dimensional involved nine velocity directions. For one dimensional the particles are denoted as D1Q3 means one dimensional with two particle placed in the left and right hand side of a certain particle zero. There are also some other consideration however in this module we limit our codes based on these two types of arrangement for 2D and 1D problems .  It is necessary to note that in LBM every lattice space and also time step is considered as one.\n",
      "\n",
      " Main Equations and steps in LBM\n",
      "\n",
      "  \n",
      "\n",
      "  As discussed earlier the exchange of momentum and energy is achieved through particle streaming and particle collision. This process can be modelled by the Boltzmann transport equation, which is:\n",
      "\n",
      "  \n",
      "$ \\frac{\\partial f}{\\partial t} +\\mathop{u}\\limits^{\\to } .\\nabla f=\\Omega  $\n",
      "\n",
      "\n",
      "  Microscopic lattice nodes are defined as follow:\n",
      "\n",
      "  \n",
      "\n",
      "  D2Q9:\n",
      "  \n"
     ]
    },
    {
     "cell_type": "markdown",
     "metadata": {},
     "source": [
      "$$\\mathop{e_{i} }\\limits^{\\to } \\left\\{\\begin{array}{l} {(0,0)\\, \\, \\, \\, \\, \\, \\, \\, \\, \\, \\, \\, \\, \\, \\, \\, \\, \\, \\, \\, \\, \\, \\, \\, \\, \\, \\, \\, \\, \\, \\, \\, \\, \\, \\, \\, \\, \\, \\, \\, \\, \\, \\, \\, \\, \\, \\, \\, \\, \\, \\, \\, \\, \\, \\, \\, \\, i=0\\, \\, \\, \\, \\, \\, \\, \\, \\, \\, \\, \\, \\, \\, } \\\\ {(1,0),(0,1),(-1,0),(0,-1)\\, \\, \\, \\, \\, \\, \\, \\, \\, \\, \\, \\, \\, \\, \\, \\, i=1,2,3,4} \\\\ {(1,1),(-1,1),(-1,-1),(1,-1)\\, \\, \\, \\, \\, \\, \\, \\, \\, \\, \\, i=5,6,7,8\\, \\, } \\end{array}\\right. $$ \n",
      "\n",
      "\n",
      "  D2Q5:\n",
      "\n",
      "  \n",
      "$$\\mathop{e_{i} }\\limits^{\\to } \\left\\{\\begin{array}{l} {(0,0)\\, \\, \\, \\, \\, \\, \\, \\, \\, \\, \\, \\, \\, \\, \\, \\, \\, \\, \\, \\, \\, \\, \\, \\, \\, \\, \\, \\, \\, \\, \\, \\, \\, \\, \\, \\, \\, \\, \\, \\, \\, \\, \\, \\, \\, \\, \\, \\, \\, \\, \\, \\, \\, \\, \\, \\, \\, i=0\\, \\, \\, \\, \\, \\, \\, \\, \\, \\, \\, \\, \\, \\, } \\\\ {(1,0),(0,1),(-1,0),(0,-1)\\, \\, \\, \\, \\, \\, \\, \\, \\, \\, \\, \\, \\, \\, \\, \\, i=1,2,3,4} \\end{array}\\right. $$\n",
      "\n",
      "\n",
      "  D1Q3:\n",
      "\n",
      "  \n",
      "$$\\mathop{e_{i} }\\limits^{\\to } \\left\\{\\begin{array}{l} {(0,0)\\, \\, \\, \\, \\, \\, \\, \\, \\, \\, \\, \\, \\, \\, \\, \\, \\, \\, \\, \\, \\, \\, \\, \\, \\, \\, \\, \\, \\, \\, \\, i=0\\, \\, \\, \\, \\, \\, \\, \\, \\, \\, \\, \\, \\, \\, } \\\\ {(1,0),(0,-1)\\, \\, \\, \\, \\, \\, \\, \\, \\, \\, \\, \\, \\, \\, \\, \\, i=1,2} \\end{array}\\right. $$\n",
      "\n",
      " For each particle on the lattice, we associate a discrete probability distribution function $f$ which describes the probability of streaming in one particular direction. Therefore the macroscopic fluid density can be defined as a summation of microscopic particle distribution function:\n",
      "\n",
      "\n",
      "$$\\rho (\\mathop{x}\\limits^{\\to } ,t)=\\sum _{i=0}^{i=8}f_{i} (\\mathop{x}\\limits^{\\to }  ,t)$$\n",
      "Accordingly, the macroscopic velocity $u(\\mathop{x}\\limits^{\\to } ,t)$is an average of microscopic velocities weighted by the distribution functions  $f$ :\n",
      "\n",
      "$$u(\\mathop{x}\\limits^{\\to } ,t)=\\frac{1}{\\rho } \\sum _{i=0}^{i=8}cf_{i} (\\mathop{x}\\limits^{\\to }  ,t)\\, \\mathop{e_{i} }\\limits^{\\to } $$\n",
      "\n",
      "The key steps in LBM are the streaming and collision processes which are given by:\n",
      "\n",
      "$$\\underbrace{\\, \\, \\, f_{i} (\\mathop{\\mathop{x}\\limits^{\\to } +c\\mathop{e_{i} }\\limits^{\\to } }\\limits^{} \\, \\Delta t,t+\\Delta t)-f_{i} (\\mathop{\\mathop{x}\\limits^{\\to } ,}\\limits^{} \\, t)\\, \\, \\, \\, }_{Strea\\min g} =-\\underbrace{\\, \\frac{[f_{i} (\\mathop{\\mathop{x}\\limits^{\\to } ,}\\limits^{} \\, t)-f_{i}^{eq} (\\mathop{\\mathop{x}\\limits^{\\to } ,}\\limits^{} \\, t)]}{\\tau } \\, \\, }_{Collision} $$\n",
      "\n",
      "\n",
      "In the actual implementation of the model, streaming and collision are computed separately, and special attention is given to these when dealing with boundary lattice nodes. In the collision term $f_{i}^{eq} (\\mathop{x}\\limits^{\\to } ,t)$is the equilibrium distribution, and $\\tau $is considered as the relaxation time towards local equilibrium. For simulating single phase flows, it suffices to use Bhatnagar-Gross-Krook (BGK) collision, whose equilibrium distribution $f_{i}^{eq} $ is defined by:\n",
      "$f_{i}^{eq} (\\mathop{x}\\limits^{\\to } ,t)=\\omega _{i} \\, \\rho +\\rho \\, s_{i} (\\mathop{u}\\limits^{\\to } (\\mathop{x}\\limits^{\\to } ,t))$\n",
      "$$s_{i} (\\mathop{\\mathop{u}\\limits^{\\to } )=}\\limits^{} \\omega _{i} \\, \\left[3\\frac{\\mathop{e_{i} }\\limits^{\\to } .\\mathop{u}\\limits^{\\to } }{c} +\\frac{9}{2} \\frac{(\\mathop{e_{i} }\\limits^{\\to } .\\mathop{u}\\limits^{\\to } )^{2} }{c^{2} } -\\frac{3}{2} \\frac{\\mathop{u}\\limits^{\\to } .\\mathop{u}\\limits^{\\to } }{c^{2} } \\right]$$\n",
      "$$\\omega _{i} =\\left\\{\\begin{array}{l} {4/9\\, \\, \\, \\, \\, \\, \\, \\, \\, \\, i=0} \\\\ {1/9\\, \\, \\, \\, \\, \\, \\, \\, \\, \\, \\, i=1,2,3,4} \\\\ {1/36\\, \\, \\, \\, \\, \\, \\, \\, i=5,6,7,8} \\end{array}\\right. \\, \\, $$\n",
      "$$c=\\frac{\\Delta x}{\\Delta t} $$\n",
      "Coefficient $c$ is the lattice speed. The fluid kinematic viscosity (or diffusion coefficient in the problem) in the D2Q9 model is related to the relaxation time by:\n",
      "$$\\nu =\\frac{2\\tau -1}{6} \\frac{\\Delta x^{2} }{\\Delta t} $$\n"
     ]
    },
    {
     "cell_type": "markdown",
     "metadata": {},
     "source": [
      "The algorithm can be summarized as follows:\n",
      "\n",
      "        \n",
      "\n",
      "  1- Initializing distribution function\n",
      "\n",
      "  2- Collision step: calculate the updated distribution function\n",
      "\n",
      "  3- Streaming step\n",
      "\n",
      "  4- Boundary condition \n",
      "\n",
      "  5- Obtaining velocity, density and other macroscopic properties based on distribution function\n",
      "\n",
      "  6- Repeat again until the satisfaction of criterion of steady state "
     ]
    },
    {
     "cell_type": "markdown",
     "metadata": {},
     "source": [
      " we need to notice that relaxation time should be lower than 0.5 to satisfy low Mach number in LBM else instability problems arise during solution and also during the streaming and collision step, the boundary nodes require some special treatments on the distribution functions in order to satisfy the imposed macroscopic boundary conditions ."
     ]
    },
    {
     "cell_type": "markdown",
     "metadata": {},
     "source": [
      "** Boundary Condition **"
     ]
    },
    {
     "cell_type": "markdown",
     "metadata": {},
     "source": [
      " In these codes we used three types of boundaries (No-slip, Dirichlet and Neumann). For other boundaries it is recommended to read the book or related papers mentioned below.\n",
      "\n",
      "  No-slip boundary condition (Bounce-back BCs):\n",
      "\n",
      "  By the so-called bounce-back we mean that when a fluid particle (discrete distribution function) reaches a boundary node, the particle will scatter back to the fluid along with its incoming direction. IN our codes we use bounce back type which is on the grid and it is first order but we can also use mid-grid bounce back with second order accuracy. There are also different types of bounce back to guarantee no-slip condition. These types are important where we deal with immersed body such as a circle in our domain which needs special treatment to not allow fluid penetrates solid boundary."
     ]
    },
    {
     "cell_type": "markdown",
     "metadata": {},
     "source": [
      " First-order **Zou-He** BCs (Bounce back model)\n",
      "\n",
      "We can also use this method for boundary with movement such as Lid-driven which will be discussed later. Please take attention how we derive these equations.\n"
     ]
    },
    {
     "cell_type": "markdown",
     "metadata": {},
     "source": [
      "$$\\begin{array}{l} {f_{1} +f_{5} +f_{8} =\\rho -(f_{0} +f_{2} +f_{4} +f_{3} +f_{6} +f_{7} )} \\\\ {f_{1} +f_{5} +f_{8} =\\rho \\, u+(f_{3} +f_{6} +f_{7} )} \\\\ {f_{5} -f_{8} =\\rho \\, v-f_{2} +f_{4} -f_{6} +f_{7} } \\\\ {} \\end{array}$$\n",
      "Now we can derive density as:\n",
      "$$\\rho =\\frac{1}{1-u} \\, \\left[f_{0} +f_{2} +f_{4} +2(f_{3} +f_{6} +f_{7} )\\right]$$"
     ]
    },
    {
     "cell_type": "markdown",
     "metadata": {},
     "source": [
      "But we know that:\n",
      "\n",
      "  \n",
      "$$f_{1} -f_{1}^{eq} =f_{3} -f_{3}^{eq} $$\n",
      "\n",
      "\n",
      "  Therefore:"
     ]
    },
    {
     "cell_type": "markdown",
     "metadata": {},
     "source": [
      "$$\\begin{array}{l} {f_{1} =\\frac{2}{3} \\rho \\, v+f_{3} } \\\\ {f_{5} =\\frac{1}{6} \\rho \\, u+\\frac{1}{2} \\rho \\, v-\\frac{1}{2} (f_{2} -f_{4} )+f_{7} } \\\\ {f_{8} =\\frac{1}{6} \\rho \\, u-\\frac{1}{2} \\rho \\, v+\\frac{1}{2} (f_{2} -f_{4} )+f_{6} } \\\\ {} \\end{array}$$"
     ]
    },
    {
     "cell_type": "markdown",
     "metadata": {},
     "source": [
      "Other Boundaries will be discussed while solving the corresponding problems. "
     ]
    },
    {
     "cell_type": "markdown",
     "metadata": {},
     "source": [
      "References :\n",
      "    \n",
      "  1-  A.A.Mohamad , Lattice Boltzmann Method , Fundumental and Engineering Applications with Computer Codes ,Springer,\n",
      "       DOI 10.1007/978-0-85729-455-5\n",
      "       \n",
      "   2- Yuanxun Bill Bao & Justin Meskas ,Lattice Boltzmann Method for Fluid Simulations\n",
      "       April 14,2011Lattice  \n",
      "       \n",
      "   3- Timm Kr\u00a8uger,LBM Workshop (Edmonton, Canada), August 22\u201326, 2011   \n",
      "   "
     ]
    },
    {
     "cell_type": "code",
     "collapsed": false,
     "input": [
      "from IPython.core.display import HTML\n",
      "css_file = '../../styles/numericalmoocstyle.css'\n",
      "HTML(open(css_file, \"r\").read())"
     ],
     "language": "python",
     "metadata": {},
     "outputs": [
      {
       "ename": "IOError",
       "evalue": "[Errno 2] No such file or directory: '../../styles/numericalmoocstyle.css'",
       "output_type": "pyerr",
       "traceback": [
        "\u001b[1;31m---------------------------------------------------------------------------\u001b[0m\n\u001b[1;31mIOError\u001b[0m                                   Traceback (most recent call last)",
        "\u001b[1;32m<ipython-input-1-fde599084f9c>\u001b[0m in \u001b[0;36m<module>\u001b[1;34m()\u001b[0m\n\u001b[0;32m      1\u001b[0m \u001b[1;32mfrom\u001b[0m \u001b[0mIPython\u001b[0m\u001b[1;33m.\u001b[0m\u001b[0mcore\u001b[0m\u001b[1;33m.\u001b[0m\u001b[0mdisplay\u001b[0m \u001b[1;32mimport\u001b[0m \u001b[0mHTML\u001b[0m\u001b[1;33m\u001b[0m\u001b[0m\n\u001b[0;32m      2\u001b[0m \u001b[0mcss_file\u001b[0m \u001b[1;33m=\u001b[0m \u001b[1;34m'../../styles/numericalmoocstyle.css'\u001b[0m\u001b[1;33m\u001b[0m\u001b[0m\n\u001b[1;32m----> 3\u001b[1;33m \u001b[0mHTML\u001b[0m\u001b[1;33m(\u001b[0m\u001b[0mopen\u001b[0m\u001b[1;33m(\u001b[0m\u001b[0mcss_file\u001b[0m\u001b[1;33m,\u001b[0m \u001b[1;34m\"r\"\u001b[0m\u001b[1;33m)\u001b[0m\u001b[1;33m.\u001b[0m\u001b[0mread\u001b[0m\u001b[1;33m(\u001b[0m\u001b[1;33m)\u001b[0m\u001b[1;33m)\u001b[0m\u001b[1;33m\u001b[0m\u001b[0m\n\u001b[0m",
        "\u001b[1;31mIOError\u001b[0m: [Errno 2] No such file or directory: '../../styles/numericalmoocstyle.css'"
       ]
      }
     ],
     "prompt_number": 1
    },
    {
     "cell_type": "code",
     "collapsed": false,
     "input": [],
     "language": "python",
     "metadata": {},
     "outputs": []
    }
   ],
   "metadata": {}
  }
 ]
}